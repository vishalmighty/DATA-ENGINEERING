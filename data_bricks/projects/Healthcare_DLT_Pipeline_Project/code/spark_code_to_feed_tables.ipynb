{
 "cells": [
  {
   "cell_type": "code",
   "execution_count": 0,
   "metadata": {
    "application/vnd.databricks.v1+cell": {
     "cellMetadata": {},
     "inputWidgets": {},
     "nuid": "6257f207-50de-453f-9b8f-6b57183ca243",
     "showTitle": false,
     "title": ""
    }
   },
   "outputs": [],
   "source": [
    "%sql\n",
    "CREATE SCHEMA IF NOT EXISTS default1;"
   ]
  },
  {
   "cell_type": "code",
   "execution_count": 0,
   "metadata": {
    "application/vnd.databricks.v1+cell": {
     "cellMetadata": {
      "byteLimit": 2048000,
      "implicitDf": true,
      "rowLimit": 10000
     },
     "inputWidgets": {},
     "nuid": "e3515a39-0d02-45ee-9065-1138a31d63ee",
     "showTitle": false,
     "title": ""
    }
   },
   "outputs": [
    {
     "output_type": "display_data",
     "data": {
      "text/html": [
       "<style scoped>\n",
       "  .table-result-container {\n",
       "    max-height: 300px;\n",
       "    overflow: auto;\n",
       "  }\n",
       "  table, th, td {\n",
       "    border: 1px solid black;\n",
       "    border-collapse: collapse;\n",
       "  }\n",
       "  th, td {\n",
       "    padding: 5px;\n",
       "  }\n",
       "  th {\n",
       "    text-align: left;\n",
       "  }\n",
       "</style><div class='table-result-container'><table class='table-result'><thead style='background-color: white'><tr><th>diagnosis_code</th><th>diagnosis_description</th></tr></thead><tbody><tr><td>D001</td><td>Hypertension</td></tr><tr><td>D002</td><td>Diabetes Mellitus</td></tr><tr><td>D003</td><td>Chronic Obstructive Pulmonary Disease</td></tr><tr><td>D004</td><td>Asthma</td></tr><tr><td>D005</td><td>Heart Failure</td></tr><tr><td>D006</td><td>Stroke</td></tr><tr><td>D007</td><td>Myocardial Infarction</td></tr><tr><td>D008</td><td>Chronic Kidney Disease</td></tr><tr><td>D009</td><td>Hyperlipidemia</td></tr><tr><td>D010</td><td>Coronary Artery Disease</td></tr></tbody></table></div>"
      ]
     },
     "metadata": {
      "application/vnd.databricks.v1+output": {
       "addedWidgets": {},
       "aggData": [],
       "aggError": "",
       "aggOverflow": false,
       "aggSchema": [],
       "aggSeriesLimitReached": false,
       "aggType": "",
       "arguments": {},
       "columnCustomDisplayInfos": {},
       "data": [
        [
         "D001",
         "Hypertension"
        ],
        [
         "D002",
         "Diabetes Mellitus"
        ],
        [
         "D003",
         "Chronic Obstructive Pulmonary Disease"
        ],
        [
         "D004",
         "Asthma"
        ],
        [
         "D005",
         "Heart Failure"
        ],
        [
         "D006",
         "Stroke"
        ],
        [
         "D007",
         "Myocardial Infarction"
        ],
        [
         "D008",
         "Chronic Kidney Disease"
        ],
        [
         "D009",
         "Hyperlipidemia"
        ],
        [
         "D010",
         "Coronary Artery Disease"
        ]
       ],
       "datasetInfos": [],
       "dbfsResultPath": null,
       "isJsonSchema": true,
       "metadata": {},
       "overflow": false,
       "plotOptions": {
        "customPlotOptions": {},
        "displayType": "table",
        "pivotAggregation": null,
        "pivotColumns": null,
        "xColumns": null,
        "yColumns": null
       },
       "removedWidgets": [],
       "schema": [
        {
         "metadata": "{}",
         "name": "diagnosis_code",
         "type": "\"string\""
        },
        {
         "metadata": "{}",
         "name": "diagnosis_description",
         "type": "\"string\""
        }
       ],
       "type": "table"
      }
     },
     "output_type": "display_data"
    }
   ],
   "source": [
    "df = spark.read.option(\"header\", \"true\").option(\"inferSchema\", \"true\").csv(\"dbfs:/FileStore/shashank/raw_data/diagnosis_mapping.csv\")\n",
    "display(df)\n",
    "df.write.format(\"delta\").mode(\"append\").saveAsTable(\"default1.raw_diagnosis_map\")"
   ]
  },
  {
   "cell_type": "code",
   "execution_count": 0,
   "metadata": {
    "application/vnd.databricks.v1+cell": {
     "cellMetadata": {
      "byteLimit": 2048000,
      "rowLimit": 10000
     },
     "inputWidgets": {},
     "nuid": "d7bf4140-adc9-4646-bd0b-ada79dc91c3c",
     "showTitle": false,
     "title": ""
    }
   },
   "outputs": [
    {
     "output_type": "display_data",
     "data": {
      "text/html": [
       "<style scoped>\n",
       "  .table-result-container {\n",
       "    max-height: 300px;\n",
       "    overflow: auto;\n",
       "  }\n",
       "  table, th, td {\n",
       "    border: 1px solid black;\n",
       "    border-collapse: collapse;\n",
       "  }\n",
       "  th, td {\n",
       "    padding: 5px;\n",
       "  }\n",
       "  th {\n",
       "    text-align: left;\n",
       "  }\n",
       "</style><div class='table-result-container'><table class='table-result'><thead style='background-color: white'><tr><th>patient_id</th><th>name</th><th>age</th><th>gender</th><th>address</th><th>contact_number</th><th>admission_date</th><th>diagnosis_code</th></tr></thead><tbody><tr><td>P001</td><td>John Doe</td><td>45</td><td>M</td><td>123 Main St</td><td>null</td><td>2024-07-01</td><td>D001</td></tr><tr><td>P002</td><td>Jane Smith</td><td>38</td><td>F</td><td>456 Elm St</td><td>555-9876</td><td>null</td><td>D002</td></tr><tr><td>P003</td><td>Robert Johnson</td><td>50</td><td>M</td><td>789 Maple St</td><td>555-6543</td><td>2024-07-03</td><td>D003</td></tr><tr><td>P004</td><td>Emily Davis</td><td>null</td><td>F</td><td>101 Pine St</td><td>555-3210</td><td>2024-07-04</td><td>D004</td></tr><tr><td>P005</td><td>Michael Brown</td><td>29</td><td>M</td><td>202 Oak St</td><td>null</td><td>2024-07-05</td><td>D005</td></tr><tr><td>P006</td><td>Sarah Wilson</td><td>42</td><td>F</td><td>303 Cedar St</td><td>555-6789</td><td>2024-07-06</td><td>D006</td></tr><tr><td>P007</td><td>James Taylor</td><td>31</td><td>M</td><td>null</td><td>555-9876</td><td>2024-07-07</td><td>D007</td></tr><tr><td>P008</td><td>Laura Anderson</td><td>48</td><td>F</td><td>505 Birch St</td><td>555-6543</td><td>2024-07-08</td><td>D008</td></tr><tr><td>P009</td><td>David Martinez</td><td>36</td><td>M</td><td>606 Maple St</td><td>null</td><td>2024-07-09</td><td>D009</td></tr><tr><td>P010</td><td>Amanda Lee</td><td>40</td><td>F</td><td>null</td><td>555-3210</td><td>2024-07-10</td><td>D010</td></tr><tr><td>P011</td><td>John Doe</td><td>45</td><td>M</td><td>123 Main St</td><td>555-7890</td><td>2024-07-11</td><td>D003</td></tr><tr><td>P012</td><td>Jane Smith</td><td>38</td><td>F</td><td>456 Elm St</td><td>null</td><td>2024-07-12</td><td>D007</td></tr><tr><td>P013</td><td>Robert Johnson</td><td>50</td><td>M</td><td>789 Maple St</td><td>555-6543</td><td>null</td><td>D002</td></tr><tr><td>P014</td><td>Emily Davis</td><td>null</td><td>F</td><td>101 Pine St</td><td>555-3210</td><td>2024-07-14</td><td>D009</td></tr><tr><td>P015</td><td>Michael Brown</td><td>29</td><td>M</td><td>202 Oak St</td><td>null</td><td>2024-07-15</td><td>D001</td></tr><tr><td>P016</td><td>Sarah Wilson</td><td>42</td><td>F</td><td>303 Cedar St</td><td>555-6789</td><td>null</td><td>D010</td></tr><tr><td>P017</td><td>James Taylor</td><td>31</td><td>M</td><td>404 Birch St</td><td>null</td><td>2024-07-17</td><td>D008</td></tr><tr><td>P018</td><td>Laura Anderson</td><td>48</td><td>F</td><td>505 Birch St</td><td>555-6543</td><td>2024-07-18</td><td>D004</td></tr><tr><td>P019</td><td>David Martinez</td><td>36</td><td>M</td><td>606 Maple St</td><td>null</td><td>2024-07-19</td><td>D006</td></tr><tr><td>P020</td><td>Amanda Lee</td><td>40</td><td>F</td><td>707 Pine St</td><td>555-3210</td><td>null</td><td>D005</td></tr><tr><td>P021</td><td>John Doe</td><td>45</td><td>M</td><td>123 Main St</td><td>555-7890</td><td>2024-07-21</td><td>D007</td></tr><tr><td>P022</td><td>Jane Smith</td><td>38</td><td>F</td><td>456 Elm St</td><td>null</td><td>2024-07-22</td><td>D002</td></tr><tr><td>P023</td><td>Robert Johnson</td><td>50</td><td>M</td><td>789 Maple St</td><td>555-6543</td><td>null</td><td>D009</td></tr><tr><td>P024</td><td>Emily Davis</td><td>null</td><td>F</td><td>101 Pine St</td><td>555-3210</td><td>2024-07-24</td><td>D010</td></tr><tr><td>P025</td><td>Michael Brown</td><td>29</td><td>M</td><td>202 Oak St</td><td>null</td><td>2024-07-25</td><td>D001</td></tr><tr><td>P026</td><td>Sarah Wilson</td><td>42</td><td>F</td><td>303 Cedar St</td><td>555-6789</td><td>null</td><td>D003</td></tr><tr><td>P027</td><td>James Taylor</td><td>31</td><td>M</td><td>404 Birch St</td><td>null</td><td>2024-07-27</td><td>D006</td></tr><tr><td>P028</td><td>Laura Anderson</td><td>48</td><td>F</td><td>505 Birch St</td><td>555-6543</td><td>2024-07-28</td><td>D008</td></tr><tr><td>P029</td><td>David Martinez</td><td>36</td><td>M</td><td>606 Maple St</td><td>null</td><td>2024-07-29</td><td>D004</td></tr><tr><td>P030</td><td>Amanda Lee</td><td>40</td><td>F</td><td>707 Pine St</td><td>555-3210</td><td>null</td><td>D007</td></tr><tr><td>P031</td><td>John Doe</td><td>45</td><td>M</td><td>123 Main St</td><td>null</td><td>2024-07-31</td><td>D005</td></tr><tr><td>P032</td><td>Jane Smith</td><td>38</td><td>F</td><td>456 Elm St</td><td>555-9876</td><td>null</td><td>D009</td></tr><tr><td>P033</td><td>Robert Johnson</td><td>50</td><td>M</td><td>789 Maple St</td><td>null</td><td>2024-08-01</td><td>D010</td></tr><tr><td>P034</td><td>Emily Davis</td><td>null</td><td>F</td><td>101 Pine St</td><td>555-3210</td><td>2024-08-02</td><td>D002</td></tr><tr><td>P035</td><td>Michael Brown</td><td>29</td><td>M</td><td>202 Oak St</td><td>555-4321</td><td>2024-08-03</td><td>D003</td></tr><tr><td>P036</td><td>Sarah Wilson</td><td>42</td><td>F</td><td>303 Cedar St</td><td>null</td><td>2024-08-04</td><td>D001</td></tr><tr><td>P037</td><td>James Taylor</td><td>31</td><td>M</td><td>404 Birch St</td><td>555-8765</td><td>2024-08-05</td><td>D007</td></tr><tr><td>P038</td><td>Laura Anderson</td><td>48</td><td>F</td><td>505 Birch St</td><td>null</td><td>2024-08-06</td><td>D006</td></tr><tr><td>P039</td><td>David Martinez</td><td>36</td><td>M</td><td>606 Maple St</td><td>null</td><td>2024-08-07</td><td>D010</td></tr><tr><td>P040</td><td>Amanda Lee</td><td>40</td><td>F</td><td>null</td><td>555-3210</td><td>2024-08-08</td><td>D004</td></tr><tr><td>P041</td><td>John Doe</td><td>45</td><td>M</td><td>123 Main St</td><td>555-7890</td><td>2024-08-09</td><td>D008</td></tr><tr><td>P042</td><td>Jane Smith</td><td>38</td><td>F</td><td>456 Elm St</td><td>null</td><td>2024-08-10</td><td>D005</td></tr><tr><td>P043</td><td>Robert Johnson</td><td>50</td><td>M</td><td>789 Maple St</td><td>555-6543</td><td>null</td><td>D009</td></tr><tr><td>P044</td><td>Emily Davis</td><td>null</td><td>F</td><td>101 Pine St</td><td>null</td><td>2024-08-12</td><td>D001</td></tr><tr><td>P045</td><td>Michael Brown</td><td>29</td><td>M</td><td>202 Oak St</td><td>null</td><td>2024-08-13</td><td>D010</td></tr><tr><td>P046</td><td>Sarah Wilson</td><td>42</td><td>F</td><td>303 Cedar St</td><td>555-6789</td><td>2024-08-14</td><td>D007</td></tr><tr><td>P047</td><td>James Taylor</td><td>31</td><td>M</td><td>null</td><td>555-9876</td><td>2024-08-15</td><td>D002</td></tr><tr><td>P048</td><td>Laura Anderson</td><td>48</td><td>F</td><td>505 Birch St</td><td>555-6543</td><td>null</td><td>D003</td></tr><tr><td>P049</td><td>David Martinez</td><td>36</td><td>M</td><td>606 Maple St</td><td>555-3210</td><td>2024-08-17</td><td>D006</td></tr><tr><td>P050</td><td>Amanda Lee</td><td>40</td><td>F</td><td>707 Pine St</td><td>null</td><td>2024-08-18</td><td>D008</td></tr><tr><td>P051</td><td>John Doe</td><td>45</td><td>M</td><td>123 Main St</td><td>555-7890</td><td>null</td><td>D005</td></tr><tr><td>P052</td><td>Jane Smith</td><td>38</td><td>F</td><td>456 Elm St</td><td>null</td><td>2024-08-20</td><td>D009</td></tr><tr><td>P053</td><td>Robert Johnson</td><td>50</td><td>M</td><td>789 Maple St</td><td>555-6543</td><td>2024-08-21</td><td>D001</td></tr><tr><td>P054</td><td>Emily Davis</td><td>null</td><td>F</td><td>101 Pine St</td><td>null</td><td>2024-08-22</td><td>D010</td></tr><tr><td>P055</td><td>Michael Brown</td><td>29</td><td>M</td><td>202 Oak St</td><td>555-4321</td><td>null</td><td>D004</td></tr><tr><td>P056</td><td>Sarah Wilson</td><td>42</td><td>F</td><td>303 Cedar St</td><td>null</td><td>2024-08-24</td><td>D007</td></tr><tr><td>P057</td><td>James Taylor</td><td>31</td><td>M</td><td>404 Birch St</td><td>555-8765</td><td>null</td><td>D002</td></tr><tr><td>P058</td><td>Laura Anderson</td><td>48</td><td>F</td><td>null</td><td>555-6543</td><td>2024-08-26</td><td>D003</td></tr><tr><td>P059</td><td>David Martinez</td><td>36</td><td>M</td><td>606 Maple St</td><td>555-3210</td><td>null</td><td>D005</td></tr><tr><td>P060</td><td>Amanda Lee</td><td>40</td><td>F</td><td>707 Pine St</td><td>null</td><td>2024-08-27</td><td>D008</td></tr><tr><td>P061</td><td>John Doe</td><td>45</td><td>M</td><td>123 Main St</td><td>555-7890</td><td>2024-08-28</td><td>D009</td></tr><tr><td>P062</td><td>Jane Smith</td><td>38</td><td>F</td><td>null</td><td>456 Elm St</td><td>null</td><td>D010</td></tr><tr><td>P063</td><td>Robert Johnson</td><td>50</td><td>M</td><td>789 Maple St</td><td>null</td><td>2024-08-30</td><td>D001</td></tr><tr><td>P064</td><td>Emily Davis</td><td>null</td><td>F</td><td>101 Pine St</td><td>555-3210</td><td>null</td><td>D007</td></tr><tr><td>P065</td><td>Michael Brown</td><td>29</td><td>M</td><td>202 Oak St</td><td>null</td><td>2024-09-01</td><td>D002</td></tr><tr><td>P066</td><td>Sarah Wilson</td><td>42</td><td>F</td><td>303 Cedar St</td><td>null</td><td>2024-09-02</td><td>D004</td></tr><tr><td>P067</td><td>James Taylor</td><td>31</td><td>M</td><td>null</td><td>555-8765</td><td>2024-09-03</td><td>D009</td></tr><tr><td>P068</td><td>Laura Anderson</td><td>48</td><td>F</td><td>505 Birch St</td><td>null</td><td>2024-09-04</td><td>D003</td></tr><tr><td>P069</td><td>David Martinez</td><td>36</td><td>M</td><td>606 Maple St</td><td>555-3210</td><td>null</td><td>D006</td></tr><tr><td>P070</td><td>Amanda Lee</td><td>40</td><td>F</td><td>707 Pine St</td><td>null</td><td>2024-09-05</td><td>D010</td></tr><tr><td>P071</td><td>John Doe</td><td>45</td><td>M</td><td>123 Main St</td><td>null</td><td>null</td><td>D008</td></tr><tr><td>P072</td><td>Jane Smith</td><td>38</td><td>F</td><td>456 Elm St</td><td>null</td><td>2024-09-07</td><td>D005</td></tr><tr><td>P073</td><td>Robert Johnson</td><td>50</td><td>M</td><td>789 Maple St</td><td>555-6543</td><td>null</td><td>D007</td></tr><tr><td>P074</td><td>Emily Davis</td><td>null</td><td>F</td><td>101 Pine St</td><td>null</td><td>2024-09-08</td><td>D002</td></tr><tr><td>P075</td><td>Michael Brown</td><td>29</td><td>M</td><td>null</td><td>202 Oak St</td><td>null</td><td>D009</td></tr><tr><td>P076</td><td>Sarah Wilson</td><td>42</td><td>F</td><td>303 Cedar St</td><td>555-6789</td><td>null</td><td>D001</td></tr><tr><td>P077</td><td>James Taylor</td><td>31</td><td>M</td><td>404 Birch St</td><td>null</td><td>2024-09-10</td><td>D010</td></tr><tr><td>P078</td><td>Laura Anderson</td><td>48</td><td>F</td><td>null</td><td>505 Birch St</td><td>null</td><td>D003</td></tr><tr><td>P079</td><td>David Martinez</td><td>36</td><td>M</td><td>606 Maple St</td><td>null</td><td>2024-09-11</td><td>D004</td></tr><tr><td>P080</td><td>Amanda Lee</td><td>40</td><td>F</td><td>707 Pine St</td><td>null</td><td>2024-09-12</td><td>D008</td></tr><tr><td>P081</td><td>John Doe</td><td>45</td><td>M</td><td>123 Main St</td><td>555-7890</td><td>null</td><td>D005</td></tr><tr><td>P082</td><td>Jane Smith</td><td>38</td><td>F</td><td>456 Elm St</td><td>null</td><td>2024-09-14</td><td>D007</td></tr><tr><td>P083</td><td>Robert Johnson</td><td>50</td><td>M</td><td>null</td><td>789 Maple St</td><td>null</td><td>D006</td></tr><tr><td>P084</td><td>Emily Davis</td><td>null</td><td>F</td><td>null</td><td>101 Pine St</td><td>null</td><td>D002</td></tr><tr><td>P085</td><td>Michael Brown</td><td>29</td><td>M</td><td>202 Oak St</td><td>null</td><td>2024-09-16</td><td>D009</td></tr><tr><td>P086</td><td>Sarah Wilson</td><td>42</td><td>F</td><td>303 Cedar St</td><td>null</td><td>2024-09-17</td><td>D010</td></tr><tr><td>P087</td><td>James Taylor</td><td>31</td><td>M</td><td>404 Birch St</td><td>null</td><td>2024-09-18</td><td>D001</td></tr><tr><td>P088</td><td>Laura Anderson</td><td>48</td><td>F</td><td>505 Birch St</td><td>555-6543</td><td>null</td><td>D004</td></tr><tr><td>P089</td><td>David Martinez</td><td>36</td><td>M</td><td>null</td><td>606 Maple St</td><td>null</td><td>D007</td></tr><tr><td>P090</td><td>Amanda Lee</td><td>40</td><td>F</td><td>707 Pine St</td><td>null</td><td>2024-09-20</td><td>D005</td></tr><tr><td>P091</td><td>John Doe</td><td>45</td><td>M</td><td>123 Main St</td><td>null</td><td>null</td><td>D008</td></tr><tr><td>P092</td><td>Jane Smith</td><td>38</td><td>F</td><td>456 Elm St</td><td>null</td><td>2024-09-22</td><td>D009</td></tr><tr><td>P093</td><td>Robert Johnson</td><td>50</td><td>M</td><td>789 Maple St</td><td>null</td><td>2024-09-23</td><td>D010</td></tr><tr><td>P094</td><td>Emily Davis</td><td>null</td><td>F</td><td>101 Pine St</td><td>555-3210</td><td>null</td><td>D003</td></tr><tr><td>P095</td><td>Michael Brown</td><td>29</td><td>M</td><td>202 Oak St</td><td>null</td><td>2024-09-25</td><td>D002</td></tr><tr><td>P096</td><td>Sarah Wilson</td><td>42</td><td>F</td><td>null</td><td>303 Cedar St</td><td>null</td><td>D007</td></tr><tr><td>P097</td><td>James Taylor</td><td>31</td><td>M</td><td>404 Birch St</td><td>null</td><td>2024-09-27</td><td>D010</td></tr><tr><td>P098</td><td>Laura Anderson</td><td>48</td><td>F</td><td>null</td><td>505 Birch St</td><td>null</td><td>D005</td></tr><tr><td>P099</td><td>David Martinez</td><td>36</td><td>M</td><td>606 Maple St</td><td>null</td><td>2024-09-29</td><td>D008</td></tr><tr><td>P100</td><td>Amanda Lee</td><td>40</td><td>F</td><td>707 Pine St</td><td>null</td><td>2024-09-30</td><td>D001</td></tr></tbody></table></div>"
      ]
     },
     "metadata": {
      "application/vnd.databricks.v1+output": {
       "addedWidgets": {},
       "aggData": [],
       "aggError": "",
       "aggOverflow": false,
       "aggSchema": [],
       "aggSeriesLimitReached": false,
       "aggType": "",
       "arguments": {},
       "columnCustomDisplayInfos": {},
       "data": [
        [
         "P001",
         "John Doe",
         45,
         "M",
         "123 Main St",
         null,
         "2024-07-01",
         "D001"
        ],
        [
         "P002",
         "Jane Smith",
         38,
         "F",
         "456 Elm St",
         "555-9876",
         null,
         "D002"
        ],
        [
         "P003",
         "Robert Johnson",
         50,
         "M",
         "789 Maple St",
         "555-6543",
         "2024-07-03",
         "D003"
        ],
        [
         "P004",
         "Emily Davis",
         null,
         "F",
         "101 Pine St",
         "555-3210",
         "2024-07-04",
         "D004"
        ],
        [
         "P005",
         "Michael Brown",
         29,
         "M",
         "202 Oak St",
         null,
         "2024-07-05",
         "D005"
        ],
        [
         "P006",
         "Sarah Wilson",
         42,
         "F",
         "303 Cedar St",
         "555-6789",
         "2024-07-06",
         "D006"
        ],
        [
         "P007",
         "James Taylor",
         31,
         "M",
         null,
         "555-9876",
         "2024-07-07",
         "D007"
        ],
        [
         "P008",
         "Laura Anderson",
         48,
         "F",
         "505 Birch St",
         "555-6543",
         "2024-07-08",
         "D008"
        ],
        [
         "P009",
         "David Martinez",
         36,
         "M",
         "606 Maple St",
         null,
         "2024-07-09",
         "D009"
        ],
        [
         "P010",
         "Amanda Lee",
         40,
         "F",
         null,
         "555-3210",
         "2024-07-10",
         "D010"
        ],
        [
         "P011",
         "John Doe",
         45,
         "M",
         "123 Main St",
         "555-7890",
         "2024-07-11",
         "D003"
        ],
        [
         "P012",
         "Jane Smith",
         38,
         "F",
         "456 Elm St",
         null,
         "2024-07-12",
         "D007"
        ],
        [
         "P013",
         "Robert Johnson",
         50,
         "M",
         "789 Maple St",
         "555-6543",
         null,
         "D002"
        ],
        [
         "P014",
         "Emily Davis",
         null,
         "F",
         "101 Pine St",
         "555-3210",
         "2024-07-14",
         "D009"
        ],
        [
         "P015",
         "Michael Brown",
         29,
         "M",
         "202 Oak St",
         null,
         "2024-07-15",
         "D001"
        ],
        [
         "P016",
         "Sarah Wilson",
         42,
         "F",
         "303 Cedar St",
         "555-6789",
         null,
         "D010"
        ],
        [
         "P017",
         "James Taylor",
         31,
         "M",
         "404 Birch St",
         null,
         "2024-07-17",
         "D008"
        ],
        [
         "P018",
         "Laura Anderson",
         48,
         "F",
         "505 Birch St",
         "555-6543",
         "2024-07-18",
         "D004"
        ],
        [
         "P019",
         "David Martinez",
         36,
         "M",
         "606 Maple St",
         null,
         "2024-07-19",
         "D006"
        ],
        [
         "P020",
         "Amanda Lee",
         40,
         "F",
         "707 Pine St",
         "555-3210",
         null,
         "D005"
        ],
        [
         "P021",
         "John Doe",
         45,
         "M",
         "123 Main St",
         "555-7890",
         "2024-07-21",
         "D007"
        ],
        [
         "P022",
         "Jane Smith",
         38,
         "F",
         "456 Elm St",
         null,
         "2024-07-22",
         "D002"
        ],
        [
         "P023",
         "Robert Johnson",
         50,
         "M",
         "789 Maple St",
         "555-6543",
         null,
         "D009"
        ],
        [
         "P024",
         "Emily Davis",
         null,
         "F",
         "101 Pine St",
         "555-3210",
         "2024-07-24",
         "D010"
        ],
        [
         "P025",
         "Michael Brown",
         29,
         "M",
         "202 Oak St",
         null,
         "2024-07-25",
         "D001"
        ],
        [
         "P026",
         "Sarah Wilson",
         42,
         "F",
         "303 Cedar St",
         "555-6789",
         null,
         "D003"
        ],
        [
         "P027",
         "James Taylor",
         31,
         "M",
         "404 Birch St",
         null,
         "2024-07-27",
         "D006"
        ],
        [
         "P028",
         "Laura Anderson",
         48,
         "F",
         "505 Birch St",
         "555-6543",
         "2024-07-28",
         "D008"
        ],
        [
         "P029",
         "David Martinez",
         36,
         "M",
         "606 Maple St",
         null,
         "2024-07-29",
         "D004"
        ],
        [
         "P030",
         "Amanda Lee",
         40,
         "F",
         "707 Pine St",
         "555-3210",
         null,
         "D007"
        ],
        [
         "P031",
         "John Doe",
         45,
         "M",
         "123 Main St",
         null,
         "2024-07-31",
         "D005"
        ],
        [
         "P032",
         "Jane Smith",
         38,
         "F",
         "456 Elm St",
         "555-9876",
         null,
         "D009"
        ],
        [
         "P033",
         "Robert Johnson",
         50,
         "M",
         "789 Maple St",
         null,
         "2024-08-01",
         "D010"
        ],
        [
         "P034",
         "Emily Davis",
         null,
         "F",
         "101 Pine St",
         "555-3210",
         "2024-08-02",
         "D002"
        ],
        [
         "P035",
         "Michael Brown",
         29,
         "M",
         "202 Oak St",
         "555-4321",
         "2024-08-03",
         "D003"
        ],
        [
         "P036",
         "Sarah Wilson",
         42,
         "F",
         "303 Cedar St",
         null,
         "2024-08-04",
         "D001"
        ],
        [
         "P037",
         "James Taylor",
         31,
         "M",
         "404 Birch St",
         "555-8765",
         "2024-08-05",
         "D007"
        ],
        [
         "P038",
         "Laura Anderson",
         48,
         "F",
         "505 Birch St",
         null,
         "2024-08-06",
         "D006"
        ],
        [
         "P039",
         "David Martinez",
         36,
         "M",
         "606 Maple St",
         null,
         "2024-08-07",
         "D010"
        ],
        [
         "P040",
         "Amanda Lee",
         40,
         "F",
         null,
         "555-3210",
         "2024-08-08",
         "D004"
        ],
        [
         "P041",
         "John Doe",
         45,
         "M",
         "123 Main St",
         "555-7890",
         "2024-08-09",
         "D008"
        ],
        [
         "P042",
         "Jane Smith",
         38,
         "F",
         "456 Elm St",
         null,
         "2024-08-10",
         "D005"
        ],
        [
         "P043",
         "Robert Johnson",
         50,
         "M",
         "789 Maple St",
         "555-6543",
         null,
         "D009"
        ],
        [
         "P044",
         "Emily Davis",
         null,
         "F",
         "101 Pine St",
         null,
         "2024-08-12",
         "D001"
        ],
        [
         "P045",
         "Michael Brown",
         29,
         "M",
         "202 Oak St",
         null,
         "2024-08-13",
         "D010"
        ],
        [
         "P046",
         "Sarah Wilson",
         42,
         "F",
         "303 Cedar St",
         "555-6789",
         "2024-08-14",
         "D007"
        ],
        [
         "P047",
         "James Taylor",
         31,
         "M",
         null,
         "555-9876",
         "2024-08-15",
         "D002"
        ],
        [
         "P048",
         "Laura Anderson",
         48,
         "F",
         "505 Birch St",
         "555-6543",
         null,
         "D003"
        ],
        [
         "P049",
         "David Martinez",
         36,
         "M",
         "606 Maple St",
         "555-3210",
         "2024-08-17",
         "D006"
        ],
        [
         "P050",
         "Amanda Lee",
         40,
         "F",
         "707 Pine St",
         null,
         "2024-08-18",
         "D008"
        ],
        [
         "P051",
         "John Doe",
         45,
         "M",
         "123 Main St",
         "555-7890",
         null,
         "D005"
        ],
        [
         "P052",
         "Jane Smith",
         38,
         "F",
         "456 Elm St",
         null,
         "2024-08-20",
         "D009"
        ],
        [
         "P053",
         "Robert Johnson",
         50,
         "M",
         "789 Maple St",
         "555-6543",
         "2024-08-21",
         "D001"
        ],
        [
         "P054",
         "Emily Davis",
         null,
         "F",
         "101 Pine St",
         null,
         "2024-08-22",
         "D010"
        ],
        [
         "P055",
         "Michael Brown",
         29,
         "M",
         "202 Oak St",
         "555-4321",
         null,
         "D004"
        ],
        [
         "P056",
         "Sarah Wilson",
         42,
         "F",
         "303 Cedar St",
         null,
         "2024-08-24",
         "D007"
        ],
        [
         "P057",
         "James Taylor",
         31,
         "M",
         "404 Birch St",
         "555-8765",
         null,
         "D002"
        ],
        [
         "P058",
         "Laura Anderson",
         48,
         "F",
         null,
         "555-6543",
         "2024-08-26",
         "D003"
        ],
        [
         "P059",
         "David Martinez",
         36,
         "M",
         "606 Maple St",
         "555-3210",
         null,
         "D005"
        ],
        [
         "P060",
         "Amanda Lee",
         40,
         "F",
         "707 Pine St",
         null,
         "2024-08-27",
         "D008"
        ],
        [
         "P061",
         "John Doe",
         45,
         "M",
         "123 Main St",
         "555-7890",
         "2024-08-28",
         "D009"
        ],
        [
         "P062",
         "Jane Smith",
         38,
         "F",
         null,
         "456 Elm St",
         null,
         "D010"
        ],
        [
         "P063",
         "Robert Johnson",
         50,
         "M",
         "789 Maple St",
         null,
         "2024-08-30",
         "D001"
        ],
        [
         "P064",
         "Emily Davis",
         null,
         "F",
         "101 Pine St",
         "555-3210",
         null,
         "D007"
        ],
        [
         "P065",
         "Michael Brown",
         29,
         "M",
         "202 Oak St",
         null,
         "2024-09-01",
         "D002"
        ],
        [
         "P066",
         "Sarah Wilson",
         42,
         "F",
         "303 Cedar St",
         null,
         "2024-09-02",
         "D004"
        ],
        [
         "P067",
         "James Taylor",
         31,
         "M",
         null,
         "555-8765",
         "2024-09-03",
         "D009"
        ],
        [
         "P068",
         "Laura Anderson",
         48,
         "F",
         "505 Birch St",
         null,
         "2024-09-04",
         "D003"
        ],
        [
         "P069",
         "David Martinez",
         36,
         "M",
         "606 Maple St",
         "555-3210",
         null,
         "D006"
        ],
        [
         "P070",
         "Amanda Lee",
         40,
         "F",
         "707 Pine St",
         null,
         "2024-09-05",
         "D010"
        ],
        [
         "P071",
         "John Doe",
         45,
         "M",
         "123 Main St",
         null,
         null,
         "D008"
        ],
        [
         "P072",
         "Jane Smith",
         38,
         "F",
         "456 Elm St",
         null,
         "2024-09-07",
         "D005"
        ],
        [
         "P073",
         "Robert Johnson",
         50,
         "M",
         "789 Maple St",
         "555-6543",
         null,
         "D007"
        ],
        [
         "P074",
         "Emily Davis",
         null,
         "F",
         "101 Pine St",
         null,
         "2024-09-08",
         "D002"
        ],
        [
         "P075",
         "Michael Brown",
         29,
         "M",
         null,
         "202 Oak St",
         null,
         "D009"
        ],
        [
         "P076",
         "Sarah Wilson",
         42,
         "F",
         "303 Cedar St",
         "555-6789",
         null,
         "D001"
        ],
        [
         "P077",
         "James Taylor",
         31,
         "M",
         "404 Birch St",
         null,
         "2024-09-10",
         "D010"
        ],
        [
         "P078",
         "Laura Anderson",
         48,
         "F",
         null,
         "505 Birch St",
         null,
         "D003"
        ],
        [
         "P079",
         "David Martinez",
         36,
         "M",
         "606 Maple St",
         null,
         "2024-09-11",
         "D004"
        ],
        [
         "P080",
         "Amanda Lee",
         40,
         "F",
         "707 Pine St",
         null,
         "2024-09-12",
         "D008"
        ],
        [
         "P081",
         "John Doe",
         45,
         "M",
         "123 Main St",
         "555-7890",
         null,
         "D005"
        ],
        [
         "P082",
         "Jane Smith",
         38,
         "F",
         "456 Elm St",
         null,
         "2024-09-14",
         "D007"
        ],
        [
         "P083",
         "Robert Johnson",
         50,
         "M",
         null,
         "789 Maple St",
         null,
         "D006"
        ],
        [
         "P084",
         "Emily Davis",
         null,
         "F",
         null,
         "101 Pine St",
         null,
         "D002"
        ],
        [
         "P085",
         "Michael Brown",
         29,
         "M",
         "202 Oak St",
         null,
         "2024-09-16",
         "D009"
        ],
        [
         "P086",
         "Sarah Wilson",
         42,
         "F",
         "303 Cedar St",
         null,
         "2024-09-17",
         "D010"
        ],
        [
         "P087",
         "James Taylor",
         31,
         "M",
         "404 Birch St",
         null,
         "2024-09-18",
         "D001"
        ],
        [
         "P088",
         "Laura Anderson",
         48,
         "F",
         "505 Birch St",
         "555-6543",
         null,
         "D004"
        ],
        [
         "P089",
         "David Martinez",
         36,
         "M",
         null,
         "606 Maple St",
         null,
         "D007"
        ],
        [
         "P090",
         "Amanda Lee",
         40,
         "F",
         "707 Pine St",
         null,
         "2024-09-20",
         "D005"
        ],
        [
         "P091",
         "John Doe",
         45,
         "M",
         "123 Main St",
         null,
         null,
         "D008"
        ],
        [
         "P092",
         "Jane Smith",
         38,
         "F",
         "456 Elm St",
         null,
         "2024-09-22",
         "D009"
        ],
        [
         "P093",
         "Robert Johnson",
         50,
         "M",
         "789 Maple St",
         null,
         "2024-09-23",
         "D010"
        ],
        [
         "P094",
         "Emily Davis",
         null,
         "F",
         "101 Pine St",
         "555-3210",
         null,
         "D003"
        ],
        [
         "P095",
         "Michael Brown",
         29,
         "M",
         "202 Oak St",
         null,
         "2024-09-25",
         "D002"
        ],
        [
         "P096",
         "Sarah Wilson",
         42,
         "F",
         null,
         "303 Cedar St",
         null,
         "D007"
        ],
        [
         "P097",
         "James Taylor",
         31,
         "M",
         "404 Birch St",
         null,
         "2024-09-27",
         "D010"
        ],
        [
         "P098",
         "Laura Anderson",
         48,
         "F",
         null,
         "505 Birch St",
         null,
         "D005"
        ],
        [
         "P099",
         "David Martinez",
         36,
         "M",
         "606 Maple St",
         null,
         "2024-09-29",
         "D008"
        ],
        [
         "P100",
         "Amanda Lee",
         40,
         "F",
         "707 Pine St",
         null,
         "2024-09-30",
         "D001"
        ]
       ],
       "datasetInfos": [],
       "dbfsResultPath": null,
       "isJsonSchema": true,
       "metadata": {},
       "overflow": false,
       "plotOptions": {
        "customPlotOptions": {},
        "displayType": "table",
        "pivotAggregation": null,
        "pivotColumns": null,
        "xColumns": null,
        "yColumns": null
       },
       "removedWidgets": [],
       "schema": [
        {
         "metadata": "{}",
         "name": "patient_id",
         "type": "\"string\""
        },
        {
         "metadata": "{}",
         "name": "name",
         "type": "\"string\""
        },
        {
         "metadata": "{}",
         "name": "age",
         "type": "\"integer\""
        },
        {
         "metadata": "{}",
         "name": "gender",
         "type": "\"string\""
        },
        {
         "metadata": "{}",
         "name": "address",
         "type": "\"string\""
        },
        {
         "metadata": "{}",
         "name": "contact_number",
         "type": "\"string\""
        },
        {
         "metadata": "{}",
         "name": "admission_date",
         "type": "\"date\""
        },
        {
         "metadata": "{}",
         "name": "diagnosis_code",
         "type": "\"string\""
        }
       ],
       "type": "table"
      }
     },
     "output_type": "display_data"
    }
   ],
   "source": [
    "path1 = \"dbfs:/FileStore/shashank/raw_data/patients_daily_file_1_2024.csv\"\n",
    "path2 = \"dbfs:/FileStore/shashank/raw_data/patients_daily_file_2_2024.csv\"\n",
    "path3 = \"dbfs:/FileStore/shashank/raw_data/patients_daily_file_3_2024.csv\"\n",
    "df1 = spark.read.option(\"header\", \"true\").option(\"inferSchema\", \"true\").csv(f\"{path3}\")\n",
    "df1 = df1.withColumn(\"admission_date\", df1[\"admission_date\"].cast(\"date\"))\n",
    "display(df1)\n",
    "df1.write.format(\"delta\").option(\"mergeSchema\", \"true\").mode(\"append\").saveAsTable(\"default1.raw_patients_daily\")"
   ]
  },
  {
   "cell_type": "code",
   "execution_count": 0,
   "metadata": {
    "application/vnd.databricks.v1+cell": {
     "cellMetadata": {
      "byteLimit": 2048000,
      "implicitDf": true,
      "rowLimit": 10000
     },
     "inputWidgets": {},
     "nuid": "3dcc9cc0-180e-4bf8-ab4a-929ce740c8dd",
     "showTitle": false,
     "title": ""
    }
   },
   "outputs": [
    {
     "output_type": "display_data",
     "data": {
      "text/html": [
       "<style scoped>\n",
       "  .table-result-container {\n",
       "    max-height: 300px;\n",
       "    overflow: auto;\n",
       "  }\n",
       "  table, th, td {\n",
       "    border: 1px solid black;\n",
       "    border-collapse: collapse;\n",
       "  }\n",
       "  th, td {\n",
       "    padding: 5px;\n",
       "  }\n",
       "  th {\n",
       "    text-align: left;\n",
       "  }\n",
       "</style><div class='table-result-container'><table class='table-result'><thead style='background-color: white'><tr></tr></thead><tbody></tbody></table></div>"
      ]
     },
     "metadata": {
      "application/vnd.databricks.v1+output": {
       "addedWidgets": {},
       "aggData": [],
       "aggError": "",
       "aggOverflow": false,
       "aggSchema": [],
       "aggSeriesLimitReached": false,
       "aggType": "",
       "arguments": {},
       "columnCustomDisplayInfos": {},
       "data": [],
       "datasetInfos": [],
       "dbfsResultPath": null,
       "isJsonSchema": true,
       "metadata": {},
       "overflow": false,
       "plotOptions": {
        "customPlotOptions": {},
        "displayType": "table",
        "pivotAggregation": null,
        "pivotColumns": null,
        "xColumns": null,
        "yColumns": null
       },
       "removedWidgets": [],
       "schema": [],
       "type": "table"
      }
     },
     "output_type": "display_data"
    }
   ],
   "source": [
    "%sql\n",
    "TRUNCATE TABLE default1.raw_diagnosis_map;\n",
    "TRUNCATE TABLE default1.raw_patients_daily;\n",
    "TRUNCATE TABLE default1.diagnostic_mapping;\n",
    "TRUNCATE TABLE default1.daily_patients;\n",
    "TRUNCATE TABLE default1.processed_patient_data;\n",
    "TRUNCATE TABLE default1.patient_statistics_by_diagnosis;\n",
    "TRUNCATE TABLE default1.patient_statistics_by_gender;"
   ]
  },
  {
   "cell_type": "code",
   "execution_count": 0,
   "metadata": {
    "application/vnd.databricks.v1+cell": {
     "cellMetadata": {
      "byteLimit": 2048000,
      "implicitDf": true,
      "rowLimit": 10000
     },
     "inputWidgets": {},
     "nuid": "95ac2915-839e-4c83-b645-c0a31c078871",
     "showTitle": false,
     "title": ""
    }
   },
   "outputs": [
    {
     "output_type": "display_data",
     "data": {
      "text/html": [
       "<style scoped>\n",
       "  .table-result-container {\n",
       "    max-height: 300px;\n",
       "    overflow: auto;\n",
       "  }\n",
       "  table, th, td {\n",
       "    border: 1px solid black;\n",
       "    border-collapse: collapse;\n",
       "  }\n",
       "  th, td {\n",
       "    padding: 5px;\n",
       "  }\n",
       "  th {\n",
       "    text-align: left;\n",
       "  }\n",
       "</style><div class='table-result-container'><table class='table-result'><thead style='background-color: white'><tr></tr></thead><tbody></tbody></table></div>"
      ]
     },
     "metadata": {
      "application/vnd.databricks.v1+output": {
       "addedWidgets": {},
       "aggData": [],
       "aggError": "",
       "aggOverflow": false,
       "aggSchema": [],
       "aggSeriesLimitReached": false,
       "aggType": "",
       "arguments": {},
       "columnCustomDisplayInfos": {},
       "data": [],
       "datasetInfos": [],
       "dbfsResultPath": null,
       "isJsonSchema": true,
       "metadata": {
        "dataframeName": null
       },
       "overflow": false,
       "plotOptions": {
        "customPlotOptions": {},
        "displayType": "table",
        "pivotAggregation": null,
        "pivotColumns": null,
        "xColumns": null,
        "yColumns": null
       },
       "removedWidgets": [],
       "schema": [],
       "type": "table"
      }
     },
     "output_type": "display_data"
    }
   ],
   "source": [
    "%sql\n",
    "DROP TABLE default1.raw_diagnosis_map;\n",
    "DROP TABLE default1.raw_patients_daily;\n",
    "DROP TABLE default1.diagnostic_mapping;\n",
    "DROP TABLE default1.daily_patients;\n",
    "DROP TABLE default1.processed_patient_data;\n",
    "DROP TABLE default1.patient_statistics_by_diagnosis;\n",
    "DROP TABLE default1.patient_statistics_by_gender;"
   ]
  },
  {
   "cell_type": "code",
   "execution_count": 0,
   "metadata": {
    "application/vnd.databricks.v1+cell": {
     "cellMetadata": {
      "byteLimit": 2048000,
      "rowLimit": 10000
     },
     "inputWidgets": {},
     "nuid": "5ae06c7b-f6d0-46bf-8274-390ae91652fd",
     "showTitle": false,
     "title": ""
    }
   },
   "outputs": [
    {
     "output_type": "execute_result",
     "data": {
      "text/plain": [
       "False"
      ]
     },
     "execution_count": 3,
     "metadata": {},
     "output_type": "execute_result"
    }
   ],
   "source": [
    "# Replace <pipeline-id> and <table-name> with your actual pipeline ID and table name\n",
    "dbutils.fs.rm(\"dbfs:/pipelines/4cc036a7-f01d-48b4-a55a-5e56257a5d81/checkpoints/daily_patients\", True)"
   ]
  },
  {
   "cell_type": "code",
   "execution_count": 0,
   "metadata": {
    "application/vnd.databricks.v1+cell": {
     "cellMetadata": {
      "byteLimit": 2048000,
      "rowLimit": 10000
     },
     "inputWidgets": {},
     "nuid": "da10dd54-5e05-454b-adcd-1e4e0a1b8360",
     "showTitle": false,
     "title": ""
    }
   },
   "outputs": [
    {
     "output_type": "execute_result",
     "data": {
      "text/plain": [
       "False"
      ]
     },
     "execution_count": 4,
     "metadata": {},
     "output_type": "execute_result"
    }
   ],
   "source": [
    "dbutils.fs.rm(\"dbfs:/pipelines/4cc036a7-f01d-48b4-a55a-5e56257a5d81/checkpoints/processed_patient_data\", True)"
   ]
  }
 ],
 "metadata": {
  "application/vnd.databricks.v1+notebook": {
   "dashboards": [],
   "environmentMetadata": {
    "base_environment": "",
    "client": "1"
   },
   "language": "python",
   "notebookMetadata": {
    "mostRecentlyExecutedCommandWithImplicitDF": {
     "commandId": 3826161696487913,
     "dataframes": [
      "_sqldf"
     ]
    },
    "pythonIndentUnit": 4
   },
   "notebookName": "spark_code_to_feed_tables",
   "widgets": {}
  }
 },
 "nbformat": 4,
 "nbformat_minor": 0
}

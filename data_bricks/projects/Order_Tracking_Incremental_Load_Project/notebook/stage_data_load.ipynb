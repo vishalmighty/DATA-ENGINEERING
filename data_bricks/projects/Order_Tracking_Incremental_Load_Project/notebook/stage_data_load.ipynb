{
 "cells": [
  {
   "cell_type": "code",
   "execution_count": null,
   "metadata": {
    "application/vnd.databricks.v1+cell": {
     "cellMetadata": {
      "byteLimit": 2048000,
      "rowLimit": 10000
     },
     "inputWidgets": {},
     "nuid": "aec31c02-ffe9-44c2-a5e6-ea642134e5ee",
     "showTitle": false,
     "title": ""
    }
   },
   "outputs": [],
   "source": [
    "source_dir = \"dbfs:/FileStore/staging/\"\n",
    "target_dir = \"dbfs:/FileStore/archive/\"\n",
    "delta_table = \"green_smokes_catalog.default.stage_table\" # Catalog_name.db_name.table_name\n",
    "\n",
    "# Read CSV file from dbfs path under staging folder\n",
    "df = spark.read.csv(source_dir, header=True, inferSchema=True)\n",
    "\n",
    "# Create Delta table named stage_table if it doesn't exist and overwrite the data in stage table\n",
    "df.write.format(\"delta\").mode(\"overwrite\").saveAsTable(delta_table) # delta format(at last parquet format)\n",
    "\n",
    "# List all files in the source directory\n",
    "files = dbutils.fs.ls(source_dir)\n",
    "\n",
    "# Move each file to the target directory\n",
    "for file in files:\n",
    "    src_path = file.path\n",
    "    # Construct the target path\n",
    "    target_path = target_dir + src_path.split(\"/\")[-1] # appends the file name to target dir\n",
    "    # Move the file\n",
    "    dbutils.fs.mv(src_path, target_path)"
   ]
  }
 ],
 "metadata": {
  "application/vnd.databricks.v1+notebook": {
   "dashboards": [],
   "environmentMetadata": null,
   "language": "python",
   "notebookMetadata": {
    "pythonIndentUnit": 4
   },
   "notebookName": "stage_zn_data_processing",
   "widgets": {}
  },
  "language_info": {
   "name": "python"
  }
 },
 "nbformat": 4,
 "nbformat_minor": 0
}
